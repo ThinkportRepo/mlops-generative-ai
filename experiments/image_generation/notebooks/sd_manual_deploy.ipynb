{
 "cells": [
  {
   "cell_type": "code",
   "execution_count": null,
   "id": "initial_id",
   "metadata": {
    "collapsed": true
   },
   "outputs": [],
   "source": [
    "import botocore\n",
    "import sagemaker, boto3, json\n",
    "from sagemaker import get_execution_role\n",
    "import os\n",
    "from sagemaker.workflow.pipeline_context import PipelineSession\n",
    "\n",
    "aws_role = get_execution_role()\n",
    "aws_region = boto3.Session().region_name\n",
    "session = PipelineSession()"
   ]
  },
  {
   "cell_type": "code",
   "execution_count": null,
   "outputs": [],
   "source": [
    "%time\n",
    "import json\n",
    "import uuid\n",
    "from time import strftime, gmtime\n",
    "from sagemaker import image_uris, script_uris, model_uris, Model\n",
    "\n",
    "\n",
    "train_model_id, train_model_version, train_scope = (\n",
    "    \"model-txt2img-stabilityai-stable-diffusion-v2-1-base\",\n",
    "    \"*\",\n",
    "    \"training\",\n",
    ")\n",
    "\n",
    "inference_instance_type = \"ml.g4dn.2xlarge\"\n",
    "\n",
    "# Retrieve the inference docker container uri\n",
    "inference_image_uri = image_uris.retrieve(\n",
    "    region=aws_region,\n",
    "    framework=None,  # automatically inferred from model_id\n",
    "    image_scope=\"inference\",\n",
    "    model_id=train_model_id,\n",
    "    model_version=train_model_version,\n",
    "    instance_type=inference_instance_type,\n",
    ")\n",
    "\n",
    "# Retrieve the inference script uri. This includes scripts for model loading, inference handling etc.\n",
    "deploy_source_uri = script_uris.retrieve(\n",
    "    model_id=train_model_id, model_version=train_model_version, script_scope=\"inference\"\n",
    ")\n",
    "\n",
    "# model = Model(\n",
    "#   image_uri=inference_image_uri,\n",
    "#   model_data=\"s3://sagemaker-eu-central-1-562760952310/jumpstart-example-sd-training/model/pipelines-klavescck34y-sd-transfer-learning-QAEuYiT8xt/output/model.tar.gz\",\n",
    "#   sagemaker_session=session,\n",
    "#   role=aws_role\n",
    "# )\n",
    "\n",
    "\n",
    "from sagemaker.pytorch import PyTorchModel\n",
    "\n",
    "model = PyTorchModel(model_data=\"s3://sagemaker-eu-central-1-562760952310/jumpstart-example-sd-training/model/pipelines-klavescck34y-sd-transfer-learning-QAEuYiT8xt/output/model.tar.gz\", \n",
    "                     image_uri=inference_image_uri,\n",
    "                     entry_point=\"inference.py\",  # entry point file in source_dir and present in deploy_source_uri\n",
    "                     source_dir=deploy_source_uri,\n",
    "                     role=aws_role)\n",
    "\n",
    "\n",
    "predictor = model.deploy(initial_instance_count=1, instance_type=inference_instance_type)"
   ],
   "metadata": {
    "collapsed": false
   },
   "id": "f46ecd456ba339c9"
  },
  {
   "cell_type": "code",
   "execution_count": null,
   "outputs": [],
   "source": [
    "import matplotlib.pyplot as plt\n",
    "import numpy as np\n",
    "\n",
    "\n",
    "def query(model_predictor, text):\n",
    "    \"\"\"Query the model predictor.\"\"\"\n",
    "\n",
    "    encoded_text = json.dumps(text).encode(\"utf-8\")\n",
    "\n",
    "    query_response = model_predictor.predict(\n",
    "        encoded_text,\n",
    "        {\n",
    "            \"ContentType\": \"application/x-text\",\n",
    "            \"Accept\": \"application/json\",\n",
    "        },\n",
    "    )\n",
    "    return query_response\n",
    "\n",
    "\n",
    "def parse_response(query_response):\n",
    "    \"\"\"Parse response and return generated image and the prompt\"\"\"\n",
    "\n",
    "    response_dict = json.loads(query_response)\n",
    "    return response_dict[\"generated_image\"], response_dict[\"prompt\"]\n",
    "\n",
    "\n",
    "def display_img_and_prompt(img, prmpt):\n",
    "    \"\"\"Display hallucinated image.\"\"\"\n",
    "    plt.figure(figsize=(12, 12))\n",
    "    plt.imshow(np.array(img))\n",
    "    plt.axis(\"off\")\n",
    "    plt.title(prmpt)\n",
    "    plt.show()"
   ],
   "metadata": {
    "collapsed": false
   },
   "id": "c003f61f7c43d957"
  },
  {
   "cell_type": "code",
   "execution_count": null,
   "outputs": [],
   "source": [
    "all_prompts = [\n",
    "    \"A photo of a cedar apple rust\",\n",
    "    \"A photo of a cedar apple rust\",\n",
    "    \"A photo of a cedar apple rust\",\n",
    "    \"A photo of a cedar apple rust\",\n",
    "    \"A photo of a cedar apple rust\",\n",
    "    \"A photo of a cedar apple rust\",\n",
    "    \"A photo of a cedar apple rust\"\n",
    "]\n",
    "for prompt in all_prompts:\n",
    "    query_response = query(predictor, prompt)\n",
    "    img, _ = parse_response(query_response)\n",
    "    display_img_and_prompt(img, prompt)"
   ],
   "metadata": {
    "collapsed": false
   },
   "id": "9d803b15c272761b"
  }
 ],
 "metadata": {
  "kernelspec": {
   "display_name": "Python 3",
   "language": "python",
   "name": "python3"
  },
  "language_info": {
   "codemirror_mode": {
    "name": "ipython",
    "version": 2
   },
   "file_extension": ".py",
   "mimetype": "text/x-python",
   "name": "python",
   "nbconvert_exporter": "python",
   "pygments_lexer": "ipython2",
   "version": "2.7.6"
  }
 },
 "nbformat": 4,
 "nbformat_minor": 5
}
