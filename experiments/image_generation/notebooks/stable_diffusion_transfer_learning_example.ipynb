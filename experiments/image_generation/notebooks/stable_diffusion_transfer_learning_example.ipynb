{
 "cells": [
  {
   "cell_type": "code",
   "execution_count": null,
   "id": "initial_id",
   "metadata": {
    "collapsed": true
   },
   "outputs": [],
   "source": [
    "import botocore\n",
    "import sagemaker, boto3, json\n",
    "from sagemaker import get_execution_role\n",
    "import os\n",
    "\n",
    "\n",
    "aws_role = get_execution_role()\n",
    "aws_region = boto3.Session().region_name\n",
    "sess = sagemaker.Session()\n",
    "\n",
    "# If uploading to a different folder, change this variable.\n",
    "local_training_dataset_folder = \"training_images\"\n",
    "if not os.path.exists(local_training_dataset_folder):\n",
    "    os.mkdir(local_training_dataset_folder)"
   ]
  },
  {
   "cell_type": "code",
   "execution_count": null,
   "outputs": [],
   "source": [
    "instance_prompt = \"A photo of cedar apple rust\""
   ],
   "metadata": {
    "collapsed": false
   },
   "id": "92134170c9687631"
  },
  {
   "cell_type": "code",
   "execution_count": null,
   "outputs": [],
   "source": [
    "# Instance prompt is fed into the training script via dataset_info.json present in the training folder. Here, we write that file.\n",
    "import os\n",
    "import json\n",
    "\n",
    "with open(os.path.join(local_training_dataset_folder, \"dataset_info.json\"), \"w\") as f:\n",
    "    f.write(json.dumps({\"instance_prompt\": instance_prompt}))"
   ],
   "metadata": {
    "collapsed": false
   },
   "id": "76bb7a90bd1c9456"
  },
  {
   "cell_type": "code",
   "execution_count": null,
   "outputs": [],
   "source": [
    "account_id = boto3.client(\"sts\").get_caller_identity().get(\"Account\")\n",
    "\n",
    "training_bucket = f\"stable-diffusion-jumpstart-{aws_region}-{account_id}\""
   ],
   "metadata": {
    "collapsed": false
   },
   "id": "296a296118ae970d"
  },
  {
   "cell_type": "code",
   "execution_count": null,
   "outputs": [],
   "source": [
    "assets_bucket = f\"jumpstart-cache-prod-{aws_region}\"\n",
    "\n",
    "\n",
    "s3 = boto3.client(\"s3\")\n",
    "s3.download_file(\n",
    "    f\"jumpstart-cache-prod-{aws_region}\",\n",
    "    \"ai_services_assets/custom_labels/cl_jumpstart_ic_notebook_utils.py\",\n",
    "    \"utils.py\",\n",
    ")\n",
    "\n",
    "\n",
    "from utils import create_bucket_if_not_exists\n",
    "\n",
    "create_bucket_if_not_exists(training_bucket)"
   ],
   "metadata": {
    "collapsed": false
   },
   "id": "6270eda42bcee855"
  },
  {
   "cell_type": "code",
   "execution_count": null,
   "outputs": [],
   "source": [
    "train_s3_path = f\"s3://{training_bucket}/custom_cedar_apple_rust_stable_diffusion_dataset/\"\n",
    "\n",
    "!aws s3 cp --recursive $local_training_dataset_folder $train_s3_path"
   ],
   "metadata": {
    "collapsed": false
   },
   "id": "efcda00ea2881a3c"
  },
  {
   "cell_type": "code",
   "execution_count": null,
   "outputs": [],
   "source": [
    "from sagemaker import image_uris, model_uris, script_uris\n",
    "\n",
    "train_model_id, train_model_version, train_scope = (\n",
    "    \"model-txt2img-stabilityai-stable-diffusion-v2-1-base\",\n",
    "    \"*\",\n",
    "    \"training\",\n",
    ")\n",
    "\n",
    "# Tested with ml.g4dn.2xlarge (16GB GPU memory) and ml.g5.2xlarge (24GB GPU memory) instances. Other instances may work as well.\n",
    "# If ml.g5.2xlarge instance type is available, please change the following instance type to speed up training.\n",
    "training_instance_type = \"ml.g4dn.2xlarge\"\n",
    "\n",
    "# Retrieve the docker image\n",
    "train_image_uri = image_uris.retrieve(\n",
    "    region=None,\n",
    "    framework=None,  # automatically inferred from model_id\n",
    "    model_id=train_model_id,\n",
    "    model_version=train_model_version,\n",
    "    image_scope=train_scope,\n",
    "    instance_type=training_instance_type,\n",
    ")\n",
    "\n",
    "# Retrieve the training script. This contains all the necessary files including data processing, model training etc.\n",
    "train_source_uri = script_uris.retrieve(\n",
    "    model_id=train_model_id, model_version=train_model_version, script_scope=train_scope\n",
    ")\n",
    "# Retrieve the pre-trained model tarball to further fine-tune\n",
    "train_model_uri = model_uris.retrieve(\n",
    "    model_id=train_model_id, model_version=train_model_version, model_scope=train_scope\n",
    ")"
   ],
   "metadata": {
    "collapsed": false
   },
   "id": "9ac28cc2d73f552c"
  },
  {
   "cell_type": "code",
   "execution_count": null,
   "outputs": [],
   "source": [
    "output_bucket = sess.default_bucket()"
   ],
   "metadata": {
    "collapsed": false
   },
   "id": "bd5c9f96d75a87a4"
  },
  {
   "cell_type": "code",
   "execution_count": null,
   "outputs": [],
   "source": [
    "output_prefix = \"jumpstart-example-sd-training\"\n",
    "\n",
    "s3_output_location = f\"s3://{output_bucket}/{output_prefix}/output\""
   ],
   "metadata": {
    "collapsed": false
   },
   "id": "a256be414e857f57"
  },
  {
   "cell_type": "code",
   "execution_count": null,
   "outputs": [],
   "source": [
    "from sagemaker import hyperparameters\n",
    "\n",
    "# Retrieve the default hyper-parameters for fine-tuning the model\n",
    "hyperparameters = hyperparameters.retrieve_default(\n",
    "    model_id=train_model_id, model_version=train_model_version\n",
    ")\n",
    "\n",
    "# [Optional] Override default hyperparameters with custom values. This controls the duration of the training and the quality of the output.\n",
    "# If max_steps is too small, training will be fast but the the model will not be able to generate custom images for your usecase.\n",
    "# If max_steps is too large, training will be very slow.\n",
    "hyperparameters[\"max_steps\"] = \"200\"\n",
    "print(hyperparameters)"
   ],
   "metadata": {
    "collapsed": false
   },
   "id": "d8fca0face02e62b"
  },
  {
   "cell_type": "code",
   "execution_count": null,
   "outputs": [],
   "source": [
    "%time\n",
    "from sagemaker.estimator import Estimator\n",
    "from sagemaker.utils import name_from_base\n",
    "from sagemaker.tuner import HyperparameterTuner\n",
    "\n",
    "training_job_name = name_from_base(f\"jumpstart-example-{train_model_id}-transfer-learning\")\n",
    "\n",
    "# Create SageMaker Estimator instance\n",
    "sd_estimator = Estimator(\n",
    "    role=aws_role,\n",
    "    image_uri=train_image_uri,\n",
    "    source_dir=train_source_uri,\n",
    "    model_uri=train_model_uri,\n",
    "    entry_point=\"transfer_learning.py\",  # Entry-point file in source_dir and present in train_source_uri.\n",
    "    instance_count=1,\n",
    "    instance_type=training_instance_type,\n",
    "    max_run=360000,\n",
    "    hyperparameters=hyperparameters,\n",
    "    output_path=s3_output_location,\n",
    "    base_job_name=training_job_name,\n",
    ")\n",
    "\n",
    "# Launch a SageMaker Training job by passing s3 path of the training data\n",
    "sd_estimator.fit({\"training\": train_s3_path}, logs=True)"
   ],
   "metadata": {
    "collapsed": false
   },
   "id": "27daa065a756ea24"
  },
  {
   "cell_type": "code",
   "execution_count": null,
   "outputs": [],
   "source": [
    "%time\n",
    "\n",
    "inference_instance_type = \"ml.g4dn.2xlarge\"\n",
    "\n",
    "# Retrieve the inference docker container uri\n",
    "deploy_image_uri = image_uris.retrieve(\n",
    "    region=None,\n",
    "    framework=None,  # automatically inferred from model_id\n",
    "    image_scope=\"inference\",\n",
    "    model_id=train_model_id,\n",
    "    model_version=train_model_version,\n",
    "    instance_type=inference_instance_type,\n",
    ")\n",
    "# Retrieve the inference script uri. This includes scripts for model loading, inference handling etc.\n",
    "deploy_source_uri = script_uris.retrieve(\n",
    "    model_id=train_model_id, model_version=train_model_version, script_scope=\"inference\"\n",
    ")\n",
    "\n",
    "endpoint_name = name_from_base(f\"jumpstart-example-FT-{train_model_id}-\")\n",
    "\n",
    "# Use the estimator from the previous step to deploy to a SageMaker endpoint\n",
    "finetuned_predictor = sd_estimator.deploy(\n",
    "    initial_instance_count=1,\n",
    "    instance_type=inference_instance_type,\n",
    "    entry_point=\"inference.py\",  # entry point file in source_dir and present in deploy_source_uri\n",
    "    image_uri=deploy_image_uri,\n",
    "    source_dir=deploy_source_uri,\n",
    "    endpoint_name=endpoint_name,\n",
    ")"
   ],
   "metadata": {
    "collapsed": false
   },
   "id": "44495f245951e67a"
  },
  {
   "cell_type": "code",
   "execution_count": null,
   "outputs": [],
   "source": [
    "import matplotlib.pyplot as plt\n",
    "import numpy as np\n",
    "\n",
    "\n",
    "def query(model_predictor, text):\n",
    "    \"\"\"Query the model predictor.\"\"\"\n",
    "\n",
    "    encoded_text = json.dumps(text).encode(\"utf-8\")\n",
    "\n",
    "    query_response = model_predictor.predict(\n",
    "        encoded_text,\n",
    "        {\n",
    "            \"ContentType\": \"application/x-text\",\n",
    "            \"Accept\": \"application/json\",\n",
    "        },\n",
    "    )\n",
    "    return query_response\n",
    "\n",
    "\n",
    "def parse_response(query_response):\n",
    "    \"\"\"Parse response and return generated image and the prompt\"\"\"\n",
    "\n",
    "    response_dict = json.loads(query_response)\n",
    "    return response_dict[\"generated_image\"], response_dict[\"prompt\"]\n",
    "\n",
    "\n",
    "def display_img_and_prompt(img, prmpt):\n",
    "    \"\"\"Display hallucinated image.\"\"\"\n",
    "    plt.figure(figsize=(12, 12))\n",
    "    plt.imshow(np.array(img))\n",
    "    plt.axis(\"off\")\n",
    "    plt.title(prmpt)\n",
    "    plt.show()"
   ],
   "metadata": {
    "collapsed": false
   },
   "id": "6f1195a66be0278b"
  },
  {
   "cell_type": "code",
   "execution_count": null,
   "outputs": [],
   "source": [
    "all_prompts = [\n",
    "    \"A photo of a cedar apple rust\",\n",
    "    \"A photo of a cedar apple rust\",\n",
    "    \"A photo of a cedar apple rust\",\n",
    "    \"A photo of a cedar apple rust\",\n",
    "    \"A photo of a cedar apple rust\",\n",
    "    \"A photo of a cedar apple rust\",\n",
    "    \"A photo of a cedar apple rust\"\n",
    "]\n",
    "for prompt in all_prompts:\n",
    "    query_response = query(finetuned_predictor, prompt)\n",
    "    img, _ = parse_response(query_response)\n",
    "    display_img_and_prompt(img, prompt)"
   ],
   "metadata": {
    "collapsed": false
   },
   "id": "bf2801659e515681"
  }
 ],
 "metadata": {
  "kernelspec": {
   "display_name": "Python 3",
   "language": "python",
   "name": "python3"
  },
  "language_info": {
   "codemirror_mode": {
    "name": "ipython",
    "version": 2
   },
   "file_extension": ".py",
   "mimetype": "text/x-python",
   "name": "python",
   "nbconvert_exporter": "python",
   "pygments_lexer": "ipython2",
   "version": "2.7.6"
  }
 },
 "nbformat": 4,
 "nbformat_minor": 5
}
